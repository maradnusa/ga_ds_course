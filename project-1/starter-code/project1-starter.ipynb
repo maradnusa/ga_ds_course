{
 "cells": [
  {
   "cell_type": "markdown",
   "metadata": {
    "deletable": true,
    "editable": true
   },
   "source": [
    "# Project 1\n",
    "\n",
    "In this first project you will create a framework to scope out data science projects. This framework will provide you with a guide to develop a well-articulated problem statement and analysis plan that will be robust and reproducible."
   ]
  },
  {
   "cell_type": "markdown",
   "metadata": {
    "deletable": true,
    "editable": true
   },
   "source": [
    "### Read and evaluate the following problem statement: \n",
    "Determine which free-tier customers will covert to paying customers, using demographic data collected at signup (age, gender, location, and profession) and customer useage data (days since last log in, and activity score 1 = active user, 0= inactive user) based on Hooli data from Jan-Apr 2015. \n"
   ]
  },
  {
   "cell_type": "markdown",
   "metadata": {
    "deletable": true,
    "editable": true
   },
   "source": [
    "#### 1. What is the outcome?"
   ]
  },
  {
   "cell_type": "markdown",
   "metadata": {
    "deletable": true,
    "editable": true
   },
   "source": [
    "Answer: convert to paying (yes/no)"
   ]
  },
  {
   "cell_type": "markdown",
   "metadata": {
    "deletable": true,
    "editable": true
   },
   "source": [
    "#### 2. What are the predictors/covariates? "
   ]
  },
  {
   "cell_type": "markdown",
   "metadata": {
    "deletable": true,
    "editable": true
   },
   "source": [
    "Answer: age, gender, location, profession, days since last log in, activity score"
   ]
  },
  {
   "cell_type": "markdown",
   "metadata": {
    "deletable": true,
    "editable": true
   },
   "source": [
    "#### 3. What timeframe is this data relevent for?"
   ]
  },
  {
   "cell_type": "markdown",
   "metadata": {
    "deletable": true,
    "editable": true
   },
   "source": [
    "Answer: Jan 2015 - Apr 2015"
   ]
  },
  {
   "cell_type": "markdown",
   "metadata": {
    "deletable": true,
    "editable": true
   },
   "source": [
    "#### 4. What is the hypothesis?"
   ]
  },
  {
   "cell_type": "markdown",
   "metadata": {
    "deletable": true,
    "editable": true
   },
   "source": [
    "Answer: null hypothesis: there is no relationship between customer demographic, customer usage data and conversion to paid-tier customer"
   ]
  },
  {
   "cell_type": "markdown",
   "metadata": {
    "deletable": true,
    "editable": true
   },
   "source": [
    "## Let's get started with our dataset"
   ]
  },
  {
   "cell_type": "markdown",
   "metadata": {
    "deletable": true,
    "editable": true
   },
   "source": [
    "#### 1. Create a data dictionary "
   ]
  },
  {
   "cell_type": "markdown",
   "metadata": {
    "deletable": true,
    "editable": true
   },
   "source": [
    "Answer: \n",
    "\n",
    "Variable | Description | Type of Variable\n",
    ":-|:-|:-\n",
    "admit|0=not admitted 1=admitted|nominal/categorical\n",
    "gre|gre score|numerical/quantitative\n",
    "gpa|grade point average|numerical/quantitative\n",
    "prestige|1=1-tier 2=2-tier 3=3-tier 4=4-tier|ordinal/categorical\n",
    "\n",
    "Dependent variable is admit\n",
    "Predictor variables gre, gpa, prestige"
   ]
  },
  {
   "cell_type": "markdown",
   "metadata": {
    "deletable": true,
    "editable": true
   },
   "source": [
    "#### 2. What is the outcome?"
   ]
  },
  {
   "cell_type": "markdown",
   "metadata": {
    "deletable": true,
    "editable": true
   },
   "source": [
    "admission to college (yes/no)"
   ]
  },
  {
   "cell_type": "markdown",
   "metadata": {
    "deletable": true,
    "editable": true
   },
   "source": [
    "#### 3. What are the predictors/covariates? "
   ]
  },
  {
   "cell_type": "markdown",
   "metadata": {
    "deletable": true,
    "editable": true
   },
   "source": [
    "gre, gpa, prestige of the college"
   ]
  },
  {
   "cell_type": "markdown",
   "metadata": {
    "deletable": true,
    "editable": true
   },
   "source": [
    "#### 4. What timeframe is this data relevent for?"
   ]
  },
  {
   "cell_type": "markdown",
   "metadata": {
    "deletable": true,
    "editable": true
   },
   "source": [
    "Answer: 2016 admissions data for 1 Year full-time MS Data Science Program in Singapore"
   ]
  },
  {
   "cell_type": "markdown",
   "metadata": {
    "deletable": true,
    "editable": true
   },
   "source": [
    "#### 4. What is the hypothesis?"
   ]
  },
  {
   "cell_type": "markdown",
   "metadata": {
    "deletable": true,
    "editable": true
   },
   "source": [
    "Answer: null hypothesis: there is no relationship between gre, gpa, prestige on admissions into 1 Year MS data science program"
   ]
  },
  {
   "cell_type": "markdown",
   "metadata": {
    "deletable": true,
    "editable": true
   },
   "source": [
    "    Using the above information, write a well-formed problem statement. \n",
    "    \n",
    "    Determine the association between gre, gpa, prestige of the institution and the admission into 1 year full-time MS data science program. Using a random sample of 10% (4000 applicants) who applied to the 1 year full-time MS data science program from various institutions in Singapore, we will determine the factors influencing the admission. We will test whether improvement in gre scores, gpa, increases the likely hood of admissions in prestigious institutions.\n"
   ]
  },
  {
   "cell_type": "markdown",
   "metadata": {
    "deletable": true,
    "editable": true
   },
   "source": [
    "## Problem Statement"
   ]
  },
  {
   "cell_type": "markdown",
   "metadata": {
    "deletable": true,
    "editable": true
   },
   "source": [
    "### Exploratory Analysis Plan"
   ]
  },
  {
   "cell_type": "markdown",
   "metadata": {
    "deletable": true,
    "editable": true
   },
   "source": [
    "Using the lab from a class as a guide, create an exploratory analysis plan. "
   ]
  },
  {
   "cell_type": "markdown",
   "metadata": {
    "deletable": true,
    "editable": true
   },
   "source": [
    "#### 1. What are the goals of the exploratory analysis? "
   ]
  },
  {
   "cell_type": "markdown",
   "metadata": {
    "collapsed": true,
    "deletable": true,
    "editable": true
   },
   "source": [
    "Answer: \n",
    "\n",
    "    Identify the problem - use the smart framework to frame a good question\n",
    "\n",
    "    Acquire - get and import the data\n",
    "\n",
    "    Parse - understand the data \n",
    "\n",
    "    Mine -  clean and manipulate the data\n",
    "\n",
    "    Refine - look for outliers and further refinements to the data"
   ]
  },
  {
   "cell_type": "markdown",
   "metadata": {
    "deletable": true,
    "editable": true
   },
   "source": [
    "#### 2a. What are the assumptions of the distribution of data? "
   ]
  },
  {
   "cell_type": "markdown",
   "metadata": {
    "deletable": true,
    "editable": true
   },
   "source": [
    "Answer: Assumption is that the data is normally distributed"
   ]
  },
  {
   "cell_type": "markdown",
   "metadata": {
    "deletable": true,
    "editable": true
   },
   "source": [
    "#### 2b. How will determine the distribution of your data? "
   ]
  },
  {
   "cell_type": "markdown",
   "metadata": {
    "collapsed": true,
    "deletable": true,
    "editable": true
   },
   "source": [
    "Answer: Create a density plot, as well look at skew"
   ]
  },
  {
   "cell_type": "markdown",
   "metadata": {
    "deletable": true,
    "editable": true
   },
   "source": [
    "#### 3a. How might outliers impact your analysis? "
   ]
  },
  {
   "cell_type": "markdown",
   "metadata": {
    "collapsed": true,
    "deletable": true,
    "editable": true
   },
   "source": [
    "Answer: Outliers can influence the outcome"
   ]
  },
  {
   "cell_type": "markdown",
   "metadata": {
    "deletable": true,
    "editable": true
   },
   "source": [
    "#### 3b. How will you test for outliers? "
   ]
  },
  {
   "cell_type": "markdown",
   "metadata": {
    "deletable": true,
    "editable": true
   },
   "source": [
    "Answer: Box plot (as well as histogram, density plot) can provide a reasonable visual representation of outlier data"
   ]
  },
  {
   "cell_type": "markdown",
   "metadata": {
    "deletable": true,
    "editable": true
   },
   "source": [
    "#### 4a. What is colinearity? "
   ]
  },
  {
   "cell_type": "markdown",
   "metadata": {
    "collapsed": true,
    "deletable": true,
    "editable": true
   },
   "source": [
    "Answer: Two or more predictor variable used in the analysis may be highly correlated with each other that may in turn confuse the analysis, as they may explain the same variability in the outcome  "
   ]
  },
  {
   "cell_type": "markdown",
   "metadata": {
    "deletable": true,
    "editable": true
   },
   "source": [
    "#### 4b. How will you test for colinearity? "
   ]
  },
  {
   "cell_type": "markdown",
   "metadata": {
    "deletable": true,
    "editable": true
   },
   "source": [
    "Answer: We can run correlation against predictor variables to see whether it is significant. "
   ]
  },
  {
   "cell_type": "markdown",
   "metadata": {
    "deletable": true,
    "editable": true
   },
   "source": [
    "#### 5. What is your exploratory analysis plan?\n",
    "Using the above information, write an exploratory analysis plan that would allow you or a colleague to reproduce your analysis 1 year from now. "
   ]
  },
  {
   "cell_type": "markdown",
   "metadata": {
    "deletable": true,
    "editable": true
   },
   "source": [
    "Answer: \n",
    "    \n",
    "Identify the problem\n",
    "\n",
    "    - Specific: The dataset include admissions data, and the key variables include: gre score, gpa score and the prestige of institution\n",
    "    - Measureable: Determine the association of admission on predictor variables such as gre, gpa and the prestige of institution. We will test whether the students gre score, gpa and the presitige of the institution will have any effect on the admission\n",
    "    - Attainable: Cross sectional data has inherent limitations - causal inference is not possible\n",
    "    - Reproducible: We will be able to get the data for a different year and be able to reproduce the analysis\n",
    "    - Time bound: We will use 1 year random sample to determine the factors associated with admission\n",
    "\n",
    "Acquire the data\n",
    "\n",
    "    - What type of data is it? \n",
    "        cross sectional\n",
    "    - How well was the data collected?\n",
    "        random sample from a bigger data set \n",
    "    - Is there much missing data?\n",
    "        not much missing\n",
    "    - Was the data collection instrument validated and reliable?\n",
    "        to be verified\n",
    "    - Is the dataset aggregated?\n",
    "        not aggregated\n",
    "    - Do we need pre-aggregated data?\n",
    "        not necessary\n",
    "    - Logistics of acquiring data\n",
    "        Could get from internet or other reliable sources\n",
    "        we will use csv for this analysis\n",
    "\n",
    "Parse the data\n",
    "\n",
    "     - Understand the data dictionary, explore variables and data types\n",
    "        admit - nominal/categorical\n",
    "        gre - numerical/quantitative\n",
    "        gpa - numerical/quantitative\n",
    "        prestige - ordinal/categorical       \n",
    "Mine\n",
    "\n",
    "    - Clean and manipulate the data\n",
    "\n",
    "        Remove rows that have no valid data (such as empty scores, empty admission etc.)\n",
    "        Create dummy columns for categorical variables like admit, prestige\n",
    "        Add year column to represent the date the data was collected\n",
    "\n",
    "Refine the data\n",
    "\n",
    "    Identify trends and outliers\n",
    "    Apply descriptive and inferential statistics\n",
    "    Document and transform data\n",
    "    "
   ]
  },
  {
   "cell_type": "markdown",
   "metadata": {
    "deletable": true,
    "editable": true
   },
   "source": [
    "## Bonus Questions:\n",
    "1. Outline your analysis method for predicting your outcome\n",
    "2. Write an alternative problem statement for your dataset\n",
    "3. Articulate the assumptions and risks of the alternative model"
   ]
  },
  {
   "cell_type": "code",
   "execution_count": null,
   "metadata": {
    "collapsed": true
   },
   "outputs": [],
   "source": [
    "1. Analysis\n",
    "\n",
    "   Ensure that the data set looks sane\n",
    "   Rule out collinearity among predictor variables\n",
    "   Run correlations"
   ]
  },
  {
   "cell_type": "markdown",
   "metadata": {
    "collapsed": true,
    "deletable": true,
    "editable": true
   },
   "source": [
    "2. Alternate problem statement\n",
    "    \n",
    "    Determine the association between gpa and the admissions into 1 year full-time MS data science program. Using a random sample of 10% (4000 applicants) who applied to the 1 year full-time MS data science program from various institutions in Singapore, we will determine factor influencing the admission. We will test whether improvement in gpa increases the likely hood of admissions."
   ]
  },
  {
   "cell_type": "markdown",
   "metadata": {},
   "source": [
    "3. Assumptions\n",
    "\n",
    "    Students having higher gpa are likely to do well in gre etc., which may not be true\n",
    "    Prestige of the institution may not matter if the students have high gpa, which may not be true\n",
    "    Random sample from 1 year is sufficient, which may not be true\n",
    "    Assumed that the data obtained is reliable\n",
    "    \n",
    "   Risks\n",
    "\n",
    "    Admission for a program has multiple factors, hence there could be confounding variables leading to incorrect outcome\n",
    "    "
   ]
  },
  {
   "cell_type": "code",
   "execution_count": null,
   "metadata": {
    "collapsed": true
   },
   "outputs": [],
   "source": []
  }
 ],
 "metadata": {
  "kernelspec": {
   "display_name": "Python 2",
   "language": "python",
   "name": "python2"
  },
  "language_info": {
   "codemirror_mode": {
    "name": "ipython",
    "version": 2
   },
   "file_extension": ".py",
   "mimetype": "text/x-python",
   "name": "python",
   "nbconvert_exporter": "python",
   "pygments_lexer": "ipython2",
   "version": "2.7.10"
  }
 },
 "nbformat": 4,
 "nbformat_minor": 0
}
